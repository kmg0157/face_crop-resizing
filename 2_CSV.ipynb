{
 "cells": [
  {
   "cell_type": "markdown",
   "id": "b3c09c19",
   "metadata": {},
   "source": [
    "# Converting image file information to CSV\n",
    "#### 데이터셋 형식 변경 : .jpg파일 CSV파일로 변환\n",
    "(AiHub Korean Emotion Dataset Conversion Manual 참고)"
   ]
  },
  {
   "cell_type": "code",
   "execution_count": 1,
   "id": "b0037d81",
   "metadata": {},
   "outputs": [],
   "source": [
    "import csv\n",
    "import os\n",
    "import dlib\n",
    "import numpy as np\n",
    "from PIL import Image\n",
    "\n",
    "csv_filename = \"data1.csv\"  # !!! 저장할 csv 파일 이름 정하기 !!!\n",
    "fieldnames = [\"dataset\", \"filename\", \"subject\", \"expression\", \"bbox\", \"mark\", \"pose\"]\n",
    "\n",
    "# CSV 파일 생성\n",
    "with open(csv_filename, mode=\"w\", newline=\"\") as file:\n",
    "    writer = csv.writer(file)\n",
    "    writer.writerow(fieldnames)\n",
    "\n",
    "    # 파일 경로 탐색\n",
    "    image_path = \"C:/data/angry30/\"  # !!! 중요 : 경로수정필요 !!!\n",
    "    image_files = os.listdir(image_path)\n",
    "\n",
    "    # 얼굴 검출기 초기화\n",
    "    detector = dlib.get_frontal_face_detector()\n",
    "    predictor = dlib.shape_predictor(\"shape_predictor_68_face_landmarks.dat\") \n",
    "    # !!! 얼굴 랜드마크 예측 모델(shape_predictor_68_face_landmarks.dat) !!!\n",
    "\n",
    "    for filename in image_files:\n",
    "        # 이미지 파일 경로\n",
    "        filepath = os.path.join(image_path, filename)\n",
    "\n",
    "        # 이미지 파일 로드\n",
    "        image = Image.open(filepath)\n",
    "        image_array = np.array(image)\n",
    "\n",
    "        # 얼굴 검출\n",
    "        dets = detector(image_array, 1)\n",
    "\n",
    "        if len(dets) > 0:\n",
    "            # 첫 번째 얼굴에 대한 랜드마크 추출\n",
    "            shape = predictor(image_array, dets[0])\n",
    "\n",
    "            # bbox 추출 (top, left, width, height)\n",
    "            bbox = f\"{dets[0].top()};{dets[0].left()};{dets[0].width()};{dets[0].height()}\"\n",
    "\n",
    "            # mark 추출 (EyeR, EyeL, Nose, En R)\n",
    "            mark = \"\"\n",
    "            for i in [36, 39, 30, 42]:  # 랜드마크 인덱스\n",
    "                x = shape.part(i).x\n",
    "                y = shape.part(i).y\n",
    "                mark += f\"{x};{y};\"\n",
    "            mark = mark.rstrip(\";\")\n",
    "\n",
    "            # CSV 파일에 데이터 작성\n",
    "            dataset = \"affectnet\"\n",
    "            subject = \"\"\n",
    "            expression = \"angry\"\n",
    "            pose = \"0.0:0.0:0.0\"\n",
    "            writer.writerow([dataset, filepath, subject, expression, bbox, mark, pose])\n",
    "        else:\n",
    "            # 얼굴이 검출되지 않은 경우\n",
    "            dataset = \"affectnet\"\n",
    "            subject = \"\"\n",
    "            expression = \"no_face\"\n",
    "            bbox = \"\"\n",
    "            mark = \"\"\n",
    "            pose = \"0.0:0.0:0.0\"\n",
    "            writer.writerow([dataset, filepath, subject, expression, bbox, mark, pose])\n"
   ]
  },
  {
   "cell_type": "code",
   "execution_count": null,
   "id": "65ca02fd",
   "metadata": {},
   "outputs": [],
   "source": []
  }
 ],
 "metadata": {
  "kernelspec": {
   "display_name": "Python 3 (ipykernel)",
   "language": "python",
   "name": "python3"
  },
  "language_info": {
   "codemirror_mode": {
    "name": "ipython",
    "version": 3
   },
   "file_extension": ".py",
   "mimetype": "text/x-python",
   "name": "python",
   "nbconvert_exporter": "python",
   "pygments_lexer": "ipython3",
   "version": "3.8.0"
  }
 },
 "nbformat": 4,
 "nbformat_minor": 5
}
