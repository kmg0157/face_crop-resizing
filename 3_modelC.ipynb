{
 "cells": [
  {
   "cell_type": "markdown",
   "id": "52400a5f",
   "metadata": {},
   "source": [
    "# Facial.Crop and facial landmark extraction\n",
    "#### 데이터셋 형식 변경 : Facial.Crop 작업을 수행하고 얼굴 랜드마크를 추출   \n",
    "(AiHub Korean Emotion Dataset Conversion Manual 참고)"
   ]
  },
  {
   "cell_type": "markdown",
   "id": "e588b623",
   "metadata": {},
   "source": [
    "# Import"
   ]
  },
  {
   "cell_type": "code",
   "execution_count": 11,
   "id": "53d64364",
   "metadata": {},
   "outputs": [],
   "source": [
    "import numpy as np\n",
    "import dlib\n",
    "import shutil\n",
    "import cv2\n",
    "import os \n",
    "from PIL import Image"
   ]
  },
  {
   "cell_type": "markdown",
   "id": "fb01aca8",
   "metadata": {},
   "source": [
    "# 디렉토리 경로 설정 [경로 수정 필요]"
   ]
  },
  {
   "cell_type": "code",
   "execution_count": 12,
   "id": "6abba9cd",
   "metadata": {},
   "outputs": [],
   "source": [
    "# # !!! 중요 : 경로수정필요 !!!\n",
    "input_directory = r'C:\\data\\angry' # 원본 디렉토리 경로\n",
    "output_directory = r'C:\\data\\angry30_renamed'  # 결과 이미지 저장 디렉토리"
   ]
  },
  {
   "cell_type": "markdown",
   "id": "30a92b14",
   "metadata": {},
   "source": [
    "# 얼굴 검출기 초기화"
   ]
  },
  {
   "cell_type": "code",
   "execution_count": 13,
   "id": "978d5c44",
   "metadata": {},
   "outputs": [],
   "source": [
    "detector = dlib.get_frontal_face_detector()"
   ]
  },
  {
   "cell_type": "markdown",
   "id": "851615d2",
   "metadata": {},
   "source": [
    "# 랜드마크 검출기 초기화"
   ]
  },
  {
   "cell_type": "code",
   "execution_count": 14,
   "id": "2307e19f",
   "metadata": {},
   "outputs": [],
   "source": [
    "shape_predictor_model_path = 'C:/Users/h/shape_predictor_68_face_landmarks.dat' \n",
    "# 얼굴 랜드마크 예측 모델(shape_predictor_68_face_landmarks.dat) 사용\n",
    "predictor = dlib.shape_predictor(shape_predictor_model_path)"
   ]
  },
  {
   "cell_type": "markdown",
   "id": "c04f7af9",
   "metadata": {},
   "source": [
    "# 디렉토리 내 이미지 파일에서 얼굴을 검출하고 처리하는 작업"
   ]
  },
  {
   "cell_type": "code",
   "execution_count": 16,
   "id": "06f3bb4a",
   "metadata": {},
   "outputs": [
    {
     "name": "stdout",
     "output_type": "stream",
     "text": [
      "얼굴 검출 완료: C:\\data\\angry30_renamed\\result_006b56dc2f8cda2361e1b01b2496d6f352dd5b1790f0a9b0bfcbe540b292247d__20__&&_20210130220558-001-001.jpg\n",
      "얼굴 검출 완료: C:\\data\\angry30_renamed\\result_006b56dc2f8cda2361e1b01b2496d6f352dd5b1790f0a9b0bfcbe540b292247d__20__&&_20210130220558-001-002.jpg\n",
      "얼굴 검출 완료: C:\\data\\angry30_renamed\\result_006b56dc2f8cda2361e1b01b2496d6f352dd5b1790f0a9b0bfcbe540b292247d__20__&&_20210130220558-001-003.jpg\n",
      "얼굴 검출 완료: C:\\data\\angry30_renamed\\result_006b56dc2f8cda2361e1b01b2496d6f352dd5b1790f0a9b0bfcbe540b292247d__20__&&_20210130220558-001-004.jpg\n",
      "얼굴 검출 완료: C:\\data\\angry30_renamed\\result_006b56dc2f8cda2361e1b01b2496d6f352dd5b1790f0a9b0bfcbe540b292247d__20__&&_20210130220558-001-005.jpg\n",
      "얼굴 검출 완료: C:\\data\\angry30_renamed\\result_006b56dc2f8cda2361e1b01b2496d6f352dd5b1790f0a9b0bfcbe540b292247d__20__&&_20210130220558-001-007.jpg\n",
      "얼굴 검출 완료: C:\\data\\angry30_renamed\\result_006b56dc2f8cda2361e1b01b2496d6f352dd5b1790f0a9b0bfcbe540b292247d__20__&&_20210130220558-001-008.jpg\n",
      "얼굴 검출 완료: C:\\data\\angry30_renamed\\result_006b56dc2f8cda2361e1b01b2496d6f352dd5b1790f0a9b0bfcbe540b292247d__20__&&_20210130220558-001-010.jpg\n",
      "얼굴 검출 완료: C:\\data\\angry30_renamed\\result_006b56dc2f8cda2361e1b01b2496d6f352dd5b1790f0a9b0bfcbe540b292247d__20__&&_20210130220558-001-011.jpg\n"
     ]
    },
    {
     "ename": "KeyboardInterrupt",
     "evalue": "",
     "output_type": "error",
     "traceback": [
      "\u001b[1;31m---------------------------------------------------------------------------\u001b[0m",
      "\u001b[1;31mKeyboardInterrupt\u001b[0m                         Traceback (most recent call last)",
      "Cell \u001b[1;32mIn[16], line 19\u001b[0m\n\u001b[0;32m     16\u001b[0m     \u001b[38;5;28;01mcontinue\u001b[39;00m\n\u001b[0;32m     18\u001b[0m \u001b[38;5;66;03m# 이미지를 NumPy 배열로 변환\u001b[39;00m\n\u001b[1;32m---> 19\u001b[0m image_array \u001b[38;5;241m=\u001b[39m \u001b[43mnp\u001b[49m\u001b[38;5;241;43m.\u001b[39;49m\u001b[43marray\u001b[49m\u001b[43m(\u001b[49m\u001b[43mimage\u001b[49m\u001b[43m)\u001b[49m\n\u001b[0;32m     21\u001b[0m \u001b[38;5;66;03m# 얼굴 검출 수행\u001b[39;00m\n\u001b[0;32m     22\u001b[0m gray \u001b[38;5;241m=\u001b[39m cv2\u001b[38;5;241m.\u001b[39mcvtColor(image_array, cv2\u001b[38;5;241m.\u001b[39mCOLOR_RGB2GRAY)\n",
      "File \u001b[1;32m~\\miniforge3\\envs\\heeju\\lib\\site-packages\\PIL\\Image.py:701\u001b[0m, in \u001b[0;36mImage.__array_interface__\u001b[1;34m(self)\u001b[0m\n\u001b[0;32m    699\u001b[0m         new[\u001b[38;5;124m\"\u001b[39m\u001b[38;5;124mdata\u001b[39m\u001b[38;5;124m\"\u001b[39m] \u001b[38;5;241m=\u001b[39m \u001b[38;5;28mself\u001b[39m\u001b[38;5;241m.\u001b[39mtobytes(\u001b[38;5;124m\"\u001b[39m\u001b[38;5;124mraw\u001b[39m\u001b[38;5;124m\"\u001b[39m, \u001b[38;5;124m\"\u001b[39m\u001b[38;5;124mL\u001b[39m\u001b[38;5;124m\"\u001b[39m)\n\u001b[0;32m    700\u001b[0m     \u001b[38;5;28;01melse\u001b[39;00m:\n\u001b[1;32m--> 701\u001b[0m         new[\u001b[38;5;124m\"\u001b[39m\u001b[38;5;124mdata\u001b[39m\u001b[38;5;124m\"\u001b[39m] \u001b[38;5;241m=\u001b[39m \u001b[38;5;28;43mself\u001b[39;49m\u001b[38;5;241;43m.\u001b[39;49m\u001b[43mtobytes\u001b[49m\u001b[43m(\u001b[49m\u001b[43m)\u001b[49m\n\u001b[0;32m    702\u001b[0m \u001b[38;5;28;01mexcept\u001b[39;00m \u001b[38;5;167;01mException\u001b[39;00m \u001b[38;5;28;01mas\u001b[39;00m e:\n\u001b[0;32m    703\u001b[0m     \u001b[38;5;28;01mif\u001b[39;00m \u001b[38;5;129;01mnot\u001b[39;00m \u001b[38;5;28misinstance\u001b[39m(e, (\u001b[38;5;167;01mMemoryError\u001b[39;00m, \u001b[38;5;167;01mRecursionError\u001b[39;00m)):\n",
      "File \u001b[1;32m~\\miniforge3\\envs\\heeju\\lib\\site-packages\\PIL\\Image.py:758\u001b[0m, in \u001b[0;36mImage.tobytes\u001b[1;34m(self, encoder_name, *args)\u001b[0m\n\u001b[0;32m    755\u001b[0m \u001b[38;5;28;01mif\u001b[39;00m encoder_name \u001b[38;5;241m==\u001b[39m \u001b[38;5;124m\"\u001b[39m\u001b[38;5;124mraw\u001b[39m\u001b[38;5;124m\"\u001b[39m \u001b[38;5;129;01mand\u001b[39;00m args \u001b[38;5;241m==\u001b[39m ():\n\u001b[0;32m    756\u001b[0m     args \u001b[38;5;241m=\u001b[39m \u001b[38;5;28mself\u001b[39m\u001b[38;5;241m.\u001b[39mmode\n\u001b[1;32m--> 758\u001b[0m \u001b[38;5;28;43mself\u001b[39;49m\u001b[38;5;241;43m.\u001b[39;49m\u001b[43mload\u001b[49m\u001b[43m(\u001b[49m\u001b[43m)\u001b[49m\n\u001b[0;32m    760\u001b[0m \u001b[38;5;28;01mif\u001b[39;00m \u001b[38;5;28mself\u001b[39m\u001b[38;5;241m.\u001b[39mwidth \u001b[38;5;241m==\u001b[39m \u001b[38;5;241m0\u001b[39m \u001b[38;5;129;01mor\u001b[39;00m \u001b[38;5;28mself\u001b[39m\u001b[38;5;241m.\u001b[39mheight \u001b[38;5;241m==\u001b[39m \u001b[38;5;241m0\u001b[39m:\n\u001b[0;32m    761\u001b[0m     \u001b[38;5;28;01mreturn\u001b[39;00m \u001b[38;5;124mb\u001b[39m\u001b[38;5;124m\"\u001b[39m\u001b[38;5;124m\"\u001b[39m\n",
      "File \u001b[1;32m~\\miniforge3\\envs\\heeju\\lib\\site-packages\\PIL\\ImageFile.py:269\u001b[0m, in \u001b[0;36mImageFile.load\u001b[1;34m(self)\u001b[0m\n\u001b[0;32m    266\u001b[0m         \u001b[38;5;28;01mraise\u001b[39;00m \u001b[38;5;167;01mOSError\u001b[39;00m(msg)\n\u001b[0;32m    268\u001b[0m b \u001b[38;5;241m=\u001b[39m b \u001b[38;5;241m+\u001b[39m s\n\u001b[1;32m--> 269\u001b[0m n, err_code \u001b[38;5;241m=\u001b[39m \u001b[43mdecoder\u001b[49m\u001b[38;5;241;43m.\u001b[39;49m\u001b[43mdecode\u001b[49m\u001b[43m(\u001b[49m\u001b[43mb\u001b[49m\u001b[43m)\u001b[49m\n\u001b[0;32m    270\u001b[0m \u001b[38;5;28;01mif\u001b[39;00m n \u001b[38;5;241m<\u001b[39m \u001b[38;5;241m0\u001b[39m:\n\u001b[0;32m    271\u001b[0m     \u001b[38;5;28;01mbreak\u001b[39;00m\n",
      "\u001b[1;31mKeyboardInterrupt\u001b[0m: "
     ]
    }
   ],
   "source": [
    "for i in range(10):\n",
    "    # 디렉토리 내 모든 파일 검색\n",
    "    for filename in os.listdir(input_directory):\n",
    "        if filename.endswith('.jpg'):\n",
    "            # 파일 이름을 ASCII 문자로 변환\n",
    "            ascii_filename = filename.encode(\"ascii\", \"ignore\").decode()\n",
    "\n",
    "            # 이미지 파일 경로 생성\n",
    "            input_filepath = os.path.join(input_directory, filename)\n",
    "\n",
    "            try:\n",
    "                # 이미지 로드\n",
    "                image = Image.open(input_filepath)\n",
    "            except IOError:\n",
    "                print(f\"이미지를 읽을 수 없습니다: {input_filepath}\")\n",
    "                continue\n",
    "\n",
    "            # 이미지를 NumPy 배열로 변환\n",
    "            image_array = np.array(image)\n",
    "\n",
    "            # 얼굴 검출 수행\n",
    "            gray = cv2.cvtColor(image_array, cv2.COLOR_RGB2GRAY)\n",
    "            faces = detector(gray)\n",
    "\n",
    "            # 얼굴 검출 결과 반복 처리\n",
    "            for face in faces:\n",
    "                # 얼굴 주변에 사각형 그리기\n",
    "                x, y, w, h = face.left(), face.top(), face.width(), face.height()\n",
    "                cv2.rectangle(image_array, (x, y), (x + w, y + h), (0, 255, 0), 2)\n",
    "\n",
    "                # 랜드마크 검출 수행\n",
    "                shape = predictor(gray, face)\n",
    "\n",
    "                # 랜드마크 점에 대한 인덱스 넘버 출력\n",
    "                for i, point in enumerate(shape.parts()):\n",
    "                    cv2.putText(image_array, str(i), (point.x, point.y), cv2.FONT_HERSHEY_SIMPLEX, 0.3, (0, 0, 255), 1)\n",
    "\n",
    "                # 바운딩 박스의 마진을 적용하여 이미지 크롭\n",
    "                margin = 20  # 바운딩 박스의 마진 설정\n",
    "                cropped_face = image_array[max(y - margin, 0):min(y + h + margin, image_array.shape[0]),\n",
    "                                           max(x - margin, 0):min(x + w + margin, image_array.shape[1])]\n",
    "\n",
    "                # 크롭된 얼굴 이미지를 640x640 형식으로 리사이즈\n",
    "                target_size = (640, 640)\n",
    "                resized_face = Image.fromarray(cropped_face).resize(target_size, Image.LANCZOS)\n",
    "\n",
    "                # 결과 이미지 저장\n",
    "                output_filename = 'result_' + ascii_filename\n",
    "                output_filepath = os.path.join(output_directory, output_filename)\n",
    "                resized_face.save(output_filepath)\n",
    "\n",
    "            print(f\"얼굴 검출 완료: {output_filepath}\")"
   ]
  },
  {
   "cell_type": "code",
   "execution_count": null,
   "id": "f084e257",
   "metadata": {},
   "outputs": [],
   "source": [
    "# cpu로 실행시켜 실행 시간 오래 걸렸음, 임의로 작업 중단시켜 나온 error임."
   ]
  }
 ],
 "metadata": {
  "kernelspec": {
   "display_name": "Python 3 (ipykernel)",
   "language": "python",
   "name": "python3"
  },
  "language_info": {
   "codemirror_mode": {
    "name": "ipython",
    "version": 3
   },
   "file_extension": ".py",
   "mimetype": "text/x-python",
   "name": "python",
   "nbconvert_exporter": "python",
   "pygments_lexer": "ipython3",
   "version": "3.8.0"
  }
 },
 "nbformat": 4,
 "nbformat_minor": 5
}
