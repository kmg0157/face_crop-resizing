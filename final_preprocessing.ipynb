{
 "cells": [
  {
   "cell_type": "markdown",
   "metadata": {},
   "source": [
    "renaming 제외, 얼굴 detection과 마진 포함 cropping, facial landmark좌표 찍기"
   ]
  },
  {
   "cell_type": "markdown",
   "metadata": {},
   "source": [
    "1. 얼굴 Detection하고 원본 이미지 width와 height, face bounding box 좌표 저장"
   ]
  },
  {
   "cell_type": "code",
   "execution_count": 2,
   "metadata": {},
   "outputs": [],
   "source": [
    "import os\n",
    "import cv2\n",
    "import pandas as pd\n",
    "import tensorflow as tf\n",
    "from retinaface import RetinaFace"
   ]
  },
  {
   "cell_type": "code",
   "execution_count": 2,
   "metadata": {},
   "outputs": [
    {
     "name": "stdout",
     "output_type": "stream",
     "text": [
      "model[normal quality] init ..\n",
      "model success !\n"
     ]
    }
   ],
   "source": [
    "retinaface = RetinaFace()"
   ]
  },
  {
   "cell_type": "code",
   "execution_count": 13,
   "metadata": {},
   "outputs": [],
   "source": [
    "#from image_cropping_retina.ipynb\n",
    "def facial_detect_bbox(directory):\n",
    "    bbox_data = []\n",
    "    cnt = 1\n",
    "\n",
    "    for filename in os.listdir(directory):\n",
    "        img_path = os.path.join(directory, filename)\n",
    "        if os.path.isfile(img_path):\n",
    "            img = cv2.imread(img_path)\n",
    "            real_h, real_w = img.shape[:2]\n",
    "\n",
    "            faces = retinaface.predict(img)\n",
    "            max_width = 0\n",
    "            selected_face = None\n",
    "            for face in faces:\n",
    "                x1, y1, x2, y2 = face['x1'], face['y1'], face['x2'], face['y2']\n",
    "                width = x2 - x1\n",
    "                if width > max_width:\n",
    "                    max_width = width\n",
    "                    selected_face = face\n",
    "\n",
    "            if selected_face is not None:\n",
    "                if (cnt%100) == 0:\n",
    "                    print(cnt,'/60000')\n",
    "                cnt += 1\n",
    "                x1, y1, x2, y2 = selected_face['x1'], selected_face['y1'], selected_face['x2'], selected_face['y2']\n",
    "                bbox_data.append([filename, x1, y1, x2, y2, real_w, real_h])\n",
    "    \n",
    "    df = pd.DataFrame(bbox_data, columns=['Filename', 'x_Top','y_Top','x_Bottom','y_Bottom', 'real_width', 'real_height'])\n",
    "    return df"
   ]
  },
  {
   "cell_type": "markdown",
   "metadata": {},
   "source": [
    "출력 - dataframe반환 파일 파일명 | x_Top | y_Top | x_Bottom | y_Bottom | real_width | real_height"
   ]
  },
  {
   "cell_type": "markdown",
   "metadata": {},
   "source": [
    "2. 정사각형으로 만들어 주기 위한 4방향 margin 값 조정"
   ]
  },
  {
   "cell_type": "code",
   "execution_count": 18,
   "metadata": {},
   "outputs": [],
   "source": [
    "def make_square_with_margins(df):\n",
    "    new_bbox = []\n",
    "    for index, row in df.iterrows():\n",
    "        filename = row[\"Filename\"]\n",
    "        x1 = row[\"x_Top\"]\n",
    "        y1 = row[\"y_Top\"]\n",
    "        x2 = row[\"x_Bottom\"]\n",
    "        y2 = row[\"y_Bottom\"]\n",
    "        real_w = row[\"real_width\"]\n",
    "        real_h = row[\"real_height\"]\n",
    "\n",
    "        w = x2 - x1\n",
    "        h = y2 - y1\n",
    "        if h >= w: #세로가 가로보다 긴 경우(길쭉한 경우) -- 양옆으로 마진을 더 줘야한다.\n",
    "            move = (h-w)/2\n",
    "            margin_left = move\n",
    "            margin_right = move\n",
    "            margin_top = 0\n",
    "            margin_bottom = 0\n",
    "        else: #가로가 세로보다 긴 경우(넓적한 경우) -- 위아래로 마진을 더 줘야한다.\n",
    "            move = (w-h)/2\n",
    "            margin_left = 0\n",
    "            margin_right = 0\n",
    "            margin_top = move\n",
    "            margin_bottom = move\n",
    "        w = w + margin_left + margin_right\n",
    "        h = h + margin_top + margin_bottom\n",
    "        new_bbox.append([filename,x1,y1,x2,y2,real_w,real_h,\n",
    "                         margin_left,margin_right,margin_top,margin_bottom,w,h])\n",
    "    df1 = pd.DataFrame(new_bbox, columns=['Filename','x_Top','y_Top','x_Bottom','y_Bottom','real_width','real_height',\n",
    "                                          'margin_left','margin_right','margin_top','margin_bottom','width', 'height'])\n",
    "    return df1"
   ]
  },
  {
   "cell_type": "code",
   "execution_count": 19,
   "metadata": {},
   "outputs": [],
   "source": [
    "bbox_0 = pd.read_csv(\"D:/Dataset/aihub_korean_emotion/csvs/detection-bbox/retina-face-detection-bbox-_____.csv\", index_col=0)\n",
    "square_0 = make_square_with_margins(bbox_0)\n",
    "square_0.to_csv('made-square-_____.csv')"
   ]
  },
  {
   "cell_type": "markdown",
   "metadata": {},
   "source": [
    "출력 - dataframe반환 파일명 | x_Top | y_Top | x_Bottom | y_Bottom | real_width | real_height |\n",
    "                    margin_left | margin_right | margin_top | margin_bottom | width | height \n",
    "                    --width, height는 같아진 상태이다. 좌표는 이미지 범위를 고려 X"
   ]
  },
  {
   "cell_type": "markdown",
   "metadata": {},
   "source": [
    "3. 추가 마진 값 - 마진을 넘겨주는 값만큼 4방향 모두 추가해줌 "
   ]
  },
  {
   "cell_type": "code",
   "execution_count": 20,
   "metadata": {},
   "outputs": [],
   "source": [
    "def extra_margin_extend(df, margin):\n",
    "    df[\"margin_left\"] = df[\"margin_left\"] + margin\n",
    "    df[\"margin_right\"] = df[\"margin_right\"] + margin\n",
    "    df[\"margin_top\"] = df[\"margin_top\"] + margin\n",
    "    df[\"margin_bottom\"] = df[\"margin_bottom\"] + margin\n",
    "    df[\"width\"] = df[\"width\"] + margin*2\n",
    "    df[\"height\"] = df[\"height\"] + margin*2\n",
    "    return df"
   ]
  },
  {
   "cell_type": "code",
   "execution_count": 23,
   "metadata": {},
   "outputs": [],
   "source": [
    "df0 = pd.read_csv(\"D:/Dataset/aihub_korean_emotion/csvs/made-square/made-square-_____.csv\", index_col=0)\n",
    "ex0 = extra_margin_extend(df0, 300)\n",
    "ex0.to_csv('extramargin-300-_____.csv')"
   ]
  },
  {
   "cell_type": "markdown",
   "metadata": {},
   "source": [
    "출력 : 2번 단계의 결과물에서 4방향 마진 값만 증가된 상태의 dataframe. 좌표는 이미지 범위를 고려 X. width == height"
   ]
  },
  {
   "cell_type": "markdown",
   "metadata": {},
   "source": [
    "4. 마진 값 조정 - 640x640보다 사이즈가 작은지, 좌표가 이미지 범위를 벗어나는지 확인하고 조정 \n",
    "4방향 마진 값만 변화할 수 있으며, 이후 width와 height값은 다를 수도 있음"
   ]
  },
  {
   "cell_type": "code",
   "execution_count": 24,
   "metadata": {},
   "outputs": [],
   "source": [
    "def ready_to_crop(df):\n",
    "    new_crop_box = []\n",
    "    for index, row in df.iterrows():\n",
    "        filename = row[\"Filename\"]\n",
    "        x1 = row[\"x_Top\"]\n",
    "        y1 = row[\"y_Top\"]\n",
    "        x2 = row[\"x_Bottom\"]\n",
    "        y2 = row[\"y_Bottom\"]\n",
    "        real_w = row[\"real_width\"]\n",
    "        real_h = row[\"real_height\"]\n",
    "        margin_l = row[\"margin_left\"]\n",
    "        margin_r = row[\"margin_right\"]\n",
    "        margin_t = row[\"margin_top\"]\n",
    "        margin_b = row[\"margin_bottom\"]\n",
    "        width = row[\"width\"]\n",
    "        height = row[\"height\"]\n",
    "\n",
    "        if width < 640:\n",
    "            move = (640 - width)/2\n",
    "            margin_l += move\n",
    "            margin_r += move\n",
    "            margin_t += move\n",
    "            margin_b += move\n",
    "            width = (x2-x1) + margin_l + margin_r\n",
    "            height = (y2-y1) + margin_t + margin_b\n",
    "        #경계면 조정\n",
    "        if (x1-margin_l) < 0:\n",
    "            margin_l = x1\n",
    "        if (x2+margin_r) > real_w:\n",
    "            margin_r = (real_w-x2)\n",
    "        if (y1-margin_t) < 0:\n",
    "            margin_t = y1\n",
    "        if (y2+margin_b) > real_h:\n",
    "            margin_b = (real_h-y2)\n",
    "        width = (x2-x1) + margin_l + margin_r\n",
    "        height = (y2-y1) + margin_t + margin_b\n",
    "        new_crop_box.append([filename, x1, y1, x2, y2, real_w, real_h,\n",
    "                             margin_l, margin_r, margin_t, margin_b, width, height])\n",
    "    df1 = pd.DataFrame(new_crop_box, columns=['Filename','x_Top','y_Top','x_Bottom','y_Bottom','original_width','original_height',\n",
    "                                              'margin_left','margin_right','margin_top','margin_bottom','width','height'])\n",
    "    return df1"
   ]
  },
  {
   "cell_type": "code",
   "execution_count": 25,
   "metadata": {},
   "outputs": [],
   "source": [
    "df0 = pd.read_csv(\"D:/Dataset/aihub_korean_emotion/csvs/extramargin-300/extramargin-300-_____.csv\", index_col=0)\n",
    "ex0 = ready_to_crop(df0)\n",
    "ex0.to_csv('dealt-boundary-_____.csv')"
   ]
  },
  {
   "cell_type": "markdown",
   "metadata": {},
   "source": [
    "출력 - 마진 값이 조정된 dataframe\n",
    "파일명 | x_Top | y_Top | x_Bottom | y_Bottom | original_width | original_height\n",
    "| margin_left | margin_right | margin_top | margin_bottom | width | height\n",
    "이때 width 와 height는 다를 수도 있음!"
   ]
  },
  {
   "cell_type": "markdown",
   "metadata": {},
   "source": [
    "5. 최종 640 by 640 이미지 자르기.\n",
    "자르고 resize(축소), interpolation = cv2.INTER_CUBIC"
   ]
  },
  {
   "cell_type": "code",
   "execution_count": 4,
   "metadata": {},
   "outputs": [],
   "source": [
    "def crop_images_four_margin(directory, save_directory, df):\n",
    "    for index, row in df.iterrows():\n",
    "        filename = row[\"Filename\"]\n",
    "        img_path = os.path.join(directory, filename)\n",
    "        if os.path.isfile(img_path):\n",
    "            img = cv2.imread(img_path)\n",
    "            x1 = int(row[\"x_Top\"]-row[\"margin_left\"])\n",
    "            y1 = int(row[\"y_Top\"]-row[\"margin_top\"])\n",
    "            x2 = int(row[\"x_Bottom\"]+row[\"margin_right\"])\n",
    "            y2 = int(row[\"y_Bottom\"]+row[\"margin_bottom\"])\n",
    "            try:\n",
    "                face_crop = img[y1:y2, x1:x2]\n",
    "                resized_face = cv2.resize(face_crop, (640, 640), interpolation=cv2.INTER_CUBIC)\n",
    "                cv2.imwrite(os.path.join(save_directory, filename), resized_face)\n",
    "                if (index%100) == 0:\n",
    "                    print(index,'/60000')\n",
    "            except Exception as e:\n",
    "                print(str(e))\n",
    "                continue"
   ]
  },
  {
   "cell_type": "code",
   "execution_count": null,
   "metadata": {},
   "outputs": [],
   "source": [
    "directory = r\"D:\\Dataset\\aihub_korean_emotion\\_____\"\n",
    "save_directory = r\"D:\\Dataset\\aihub_korean_emotion\\cropped\\_____\"\n",
    "df = pd.read_csv(\"D:/Dataset/aihub_korean_emotion/csvs/dealt-boundary-problem/dealt-boundary-_____.csv\", index_col=0)\n",
    "crop_images_four_margin(directory, save_directory, df)"
   ]
  },
  {
   "cell_type": "markdown",
   "metadata": {},
   "source": [
    "출력 - 참조디렉터리에 있는 파일들을 열어서 데이터 프레임에 있는 정보대로 이미지를 자르고 리사이징 후 저장디렉터리에 이미지를 write"
   ]
  },
  {
   "cell_type": "markdown",
   "metadata": {},
   "source": [
    "6. 랜드마크 detection (Dlib) 커널을 myenv로 변경하기.\n",
    "detection을 다시 하지 않고 4방향 마진값이 resizing 전과 비례해 640x640 상에서 얼마나 차지하는 지를 계산하여 얼굴 범위를 계산하여 넣어줌"
   ]
  },
  {
   "cell_type": "code",
   "execution_count": 8,
   "metadata": {},
   "outputs": [],
   "source": [
    "import dlib\n",
    "import numpy as np\n",
    "import cv2\n",
    "from imutils import face_utils\n",
    "import os\n",
    "import pandas as pd"
   ]
  },
  {
   "cell_type": "code",
   "execution_count": 9,
   "metadata": {},
   "outputs": [],
   "source": [
    "#모델 준비\n",
    "p = \"shape_predictor_68_face_landmarks.dat\"\n",
    "predictor = dlib.shape_predictor(p)"
   ]
  },
  {
   "cell_type": "code",
   "execution_count": 10,
   "metadata": {},
   "outputs": [],
   "source": [
    "def draw_and_save_landmarks_ratio(directory, save_directory, df):\n",
    "    mrk_data = []\n",
    "    cnt = 1\n",
    "    for filename in os.listdir(directory):\n",
    "        #print(cnt,'/5000')\n",
    "        cnt += 1\n",
    "        img_path = os.path.join(directory, filename)\n",
    "        if os.path.isfile(img_path):\n",
    "            img = cv2.imread(img_path)\n",
    "            gray = cv2.cvtColor(img, cv2.COLOR_BGR2GRAY)\n",
    "            \n",
    "            row = df[df[\"Filename\"]==filename]\n",
    "            row = row.iloc[0]\n",
    "            ml = row[\"margin_left\"]\n",
    "            mt = row[\"margin_top\"]\n",
    "            mr = row[\"margin_right\"]\n",
    "            mb = row[\"margin_bottom\"]\n",
    "            width = row[\"width\"]\n",
    "            height = row[\"height\"]\n",
    "            X1 = int((640*ml/width))\n",
    "            Y1 = int((640*mt/height))\n",
    "            X2 = int(640-(640*mr/width))\n",
    "            Y2 = int(640-(640*mb/height))\n",
    "\n",
    "            rect = dlib.rectangle(X1,Y1,X2,Y2)\n",
    "\n",
    "            shape = predictor(gray, rect)\n",
    "            if shape is not None:\n",
    "                shape = face_utils.shape_to_np(shape)\n",
    "                x1 = int((shape[37][0]+shape[38][0]+shape[41][0]+shape[40][0])/4)\n",
    "                y1 = int((shape[37][1]+shape[38][1]+shape[41][1]+shape[40][1])/4)\n",
    "                x2 = int((shape[43][0]+shape[44][0]+shape[46][0]+shape[47][0])/4)\n",
    "                y2 = int((shape[43][1]+shape[44][1]+shape[46][1]+shape[47][1])/4)\n",
    "                x3 = shape[30][0]\n",
    "                y3 = shape[30][1]\n",
    "                x4 = shape[48][0]\n",
    "                y4 = shape[48][1]\n",
    "                x5 = shape[54][0]\n",
    "                y5 = shape[54][1]\n",
    "                mrk_data.append([filename,x1,y1,x2,y2,x3,y3,x4,y4,x5,y5])\n",
    "                dots = [[x1,y1],[x2,y2],[x3,y3],[x4,y4],[x5,y5]]\n",
    "                if (cnt % 100) == 0:\n",
    "                    print(cnt,'/60000')\n",
    "                    try:\n",
    "                        for (x,y) in dots:\n",
    "                            img = cv2.circle(img,(x,y),2,(0,0,255),-1)\n",
    "                        cv2.imwrite(os.path.join(save_directory, filename), img)\n",
    "                    except Exception as e:\n",
    "                        print(str(e))\n",
    "    df1 = pd.DataFrame(mrk_data, columns=['filename',\n",
    "                                         'x1','y1','x2','y2','x3','y3','x4','y4','x5','y5'])\n",
    "    return df1"
   ]
  },
  {
   "cell_type": "code",
   "execution_count": null,
   "metadata": {},
   "outputs": [],
   "source": [
    "directory = r\"D:\\Dataset\\aihub_korean_emotion\\cropped\\_____\"\n",
    "save_directory = r\"D:\\Dataset\\aihub_korean_emotion\\landmark-samples\\_____\"\n",
    "df = pd.read_csv(\"D:/Dataset/aihub_korean_emotion/csvs/dealt-boundary-problem/dealt-boundary-_____.csv\", index_col=0)\n",
    "df0 = draw_and_save_landmarks_ratio(directory, save_directory, df)\n",
    "df0.to_csv('landmark______.csv')"
   ]
  },
  {
   "cell_type": "markdown",
   "metadata": {},
   "source": [
    "출력 - 랜드마크 찍은 이미지 저장경로에 write하고 랜드마크 좌표값 5개x2=10개를 데이터 프레임으로 저장하여 반환"
   ]
  },
  {
   "cell_type": "markdown",
   "metadata": {},
   "source": [
    "CSV 파일 관련\n",
    "4단계 이후 나오는 dataframe에서 x_Top, y_Top, x_Bottom, y_Bottom은 원본 이미지를 기준으로 retinaface가 탐지한 얼굴 영역의 boundingbox 값이다.\n",
    "이후 실제로 잘려지는 부분의 좌표는 (x_Top-margin_left, y_Top-margin_top) ~ (x_Bottom+margin_right,y_Bottom+margin_bottom) 이다.\n",
    "이 영역이 640x640으로 축소된다.\n",
    "그 축소된 640by640이미지 기준으로 랜드마크 detection을 수행했기 때문에\n",
    "단계 6 이후 나오는 dataframe에서 랜드마크 좌표 10개는 cropped image 기준 상이다."
   ]
  }
 ],
 "metadata": {
  "kernelspec": {
   "display_name": "myenv",
   "language": "python",
   "name": "python3"
  },
  "language_info": {
   "codemirror_mode": {
    "name": "ipython",
    "version": 3
   },
   "file_extension": ".py",
   "mimetype": "text/x-python",
   "name": "python",
   "nbconvert_exporter": "python",
   "pygments_lexer": "ipython3",
   "version": "3.10.12"
  },
  "orig_nbformat": 4
 },
 "nbformat": 4,
 "nbformat_minor": 2
}
